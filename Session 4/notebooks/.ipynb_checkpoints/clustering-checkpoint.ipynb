{
 "cells": [
  {
   "cell_type": "markdown",
   "metadata": {},
   "source": [
    "# Flat Clustering"
   ]
  },
  {
   "cell_type": "markdown",
   "metadata": {},
   "source": [
    "In this notebook, you will get familiar with two flat clustering methods: k-means and EM clustering."
   ]
  },
  {
   "cell_type": "code",
   "execution_count": null,
   "metadata": {
    "ExecuteTime": {
     "end_time": "2020-04-28T06:57:43.951643Z",
     "start_time": "2020-04-28T06:57:42.620973Z"
    }
   },
   "outputs": [],
   "source": [
    "import pandas as pd\n",
    "import numpy as np\n",
    "import seaborn as sns\n",
    "import matplotlib.pyplot as plt\n",
    "%matplotlib inline"
   ]
  },
  {
   "cell_type": "markdown",
   "metadata": {},
   "source": [
    "## Data: iris flowers"
   ]
  },
  {
   "cell_type": "markdown",
   "metadata": {},
   "source": [
    "We start by clustering a small dataset: the iris flowers dataset. This dataset consists of four attributes which describe the properties of a set of iris flowers. Each flower is labeled with its type, or *species*. There are three different species in the dataset: Iris setosa, Iris versicolor and Iris virginica."
   ]
  },
  {
   "cell_type": "code",
   "execution_count": null,
   "metadata": {
    "ExecuteTime": {
     "end_time": "2020-04-22T08:02:42.064136Z",
     "start_time": "2020-04-22T08:02:42.009407Z"
    }
   },
   "outputs": [],
   "source": [
    "data = pd.read_csv('../datasets/iris.csv')\n",
    "data.head()"
   ]
  },
  {
   "cell_type": "markdown",
   "metadata": {},
   "source": [
    "Note that, as opposed to classification, clustering is an unsupervised task. Therefore, we remove the class label from data, such that is unknown to the clustering methods."
   ]
  },
  {
   "cell_type": "code",
   "execution_count": null,
   "metadata": {
    "ExecuteTime": {
     "end_time": "2020-04-22T08:02:43.355415Z",
     "start_time": "2020-04-22T08:02:42.809696Z"
    }
   },
   "outputs": [],
   "source": [
    "X = data.iloc[:, :-1]\n",
    "y = data.iloc[:, -1]\n",
    "X.head()"
   ]
  },
  {
   "cell_type": "markdown",
   "metadata": {},
   "source": [
    "## Implementing k-means clustering"
   ]
  },
  {
   "cell_type": "markdown",
   "metadata": {},
   "source": [
    "**Exercise 1:** Implement the k-means algorithm as you have seen it in the lectures, using the Euclidean distance. Your implementation should take two parameters: the number of clusters and the maximal number of iterations. Initialize the cluster centroids by randomply sampling points from the given dataset."
   ]
  },
  {
   "cell_type": "code",
   "execution_count": null,
   "metadata": {
    "ExecuteTime": {
     "end_time": "2020-04-22T08:02:44.250876Z",
     "start_time": "2020-04-22T08:02:44.241069Z"
    }
   },
   "outputs": [],
   "source": [
    "def k_means(X, n_clusters=3, max_iter=1000):\n",
    "    \"\"\"\n",
    "    Cluster the data `X` using k-means.\n",
    "    \n",
    "    Parameters\n",
    "    ----------\n",
    "    X : pd.DataFrame\n",
    "        Input data.\n",
    "    n_clusters : int\n",
    "        The number of clusters. Default: 3\n",
    "    max_iter : int\n",
    "        Maximal number of iterations. Default: 100\n",
    "    \"\"\"\n",
    "\n",
    "    # Your implementation here"
   ]
  },
  {
   "cell_type": "markdown",
   "metadata": {},
   "source": [
    "**Exercise 2:** Run your implementation of k-means clustering on this dataset and choose an appropriate number of clusters by visualizing the clusters.\n",
    "\n",
    "Hint: you can use the <a href=\"https://seaborn.pydata.org/generated/seaborn.pairplot.html\">`pairplot`</a> function of `seaborn` to plot a grid of all attribute pairs."
   ]
  },
  {
   "cell_type": "code",
   "execution_count": null,
   "metadata": {
    "ExecuteTime": {
     "end_time": "2020-04-22T08:02:55.915888Z",
     "start_time": "2020-04-22T08:02:51.897531Z"
    }
   },
   "outputs": [],
   "source": []
  },
  {
   "cell_type": "markdown",
   "metadata": {},
   "source": [
    "Even though class labels are typically not given in clustering problems, it would be interesting for this dataset to check whether the clusters that we found using k-means actually correspond the species of the flowers. However, we cannot compare the assigned clusters with the class labels directly by computing e.g. the accuracy score as we did for evaluating classifiers."
   ]
  },
  {
   "cell_type": "markdown",
   "metadata": {},
   "source": [
    "**Question:** Why can we not simply compute the accuracy score?"
   ]
  },
  {
   "cell_type": "markdown",
   "metadata": {},
   "source": [
    "**Exercise 3:** Look for a <a href=\"https://scikit-learn.org/stable/modules/classes.html#clustering-metrics\">metric</a> that tells you how well the clusters correspond with the class labels. Compare the clusters to the given actual labels."
   ]
  },
  {
   "cell_type": "code",
   "execution_count": null,
   "metadata": {
    "ExecuteTime": {
     "end_time": "2020-04-22T08:02:58.098507Z",
     "start_time": "2020-04-22T08:02:57.992376Z"
    }
   },
   "outputs": [],
   "source": []
  },
  {
   "cell_type": "markdown",
   "metadata": {},
   "source": [
    "## EM clustering"
   ]
  },
  {
   "cell_type": "markdown",
   "metadata": {},
   "source": [
    "Now, we will try to improve this score by using a different clustering algorithm. By looking at the plots that visualize the k-means clusters, we can see that two of the clusters are close to each other. The data points close to this boundary may therefore be assigned to the wrong cluster. Let's instead try a different clustering method based on the expectation-maximization algorithm (look for `GaussianMixture` in the `scikit-learn` documentation)."
   ]
  },
  {
   "cell_type": "markdown",
   "metadata": {},
   "source": [
    "**Exercise 4:** Cluster the Iris flowers using the algorithm described above. Visualize the clusters again and compare the correspondence to the class labels with the k-means algorithm. Does this method result in a better clustering?"
   ]
  },
  {
   "cell_type": "code",
   "execution_count": null,
   "metadata": {
    "ExecuteTime": {
     "end_time": "2020-04-22T08:03:03.579337Z",
     "start_time": "2020-04-22T08:02:59.428116Z"
    }
   },
   "outputs": [],
   "source": []
  },
  {
   "cell_type": "markdown",
   "metadata": {},
   "source": [
    "## Clustering images"
   ]
  },
  {
   "cell_type": "markdown",
   "metadata": {},
   "source": [
    "Let's proceed with a more interesting dataset. Instead of iris flowers, we will now cluster images of famous football players. For this, you will need some additional packages. Make sure you've installed the packages listed below:"
   ]
  },
  {
   "cell_type": "code",
   "execution_count": null,
   "metadata": {
    "ExecuteTime": {
     "end_time": "2020-04-27T07:38:40.951803Z",
     "start_time": "2020-04-27T07:38:18.250637Z"
    }
   },
   "outputs": [],
   "source": [
    "!pip install cmake\n",
    "!pip install dlib\n",
    "!pip install opencv-python\n",
    "!pip install face_recognition\n",
    "!pip install imutils"
   ]
  },
  {
   "cell_type": "markdown",
   "metadata": {},
   "source": [
    "If you use anaconda on windows, you might need to install some packages using anaconda instead of pip: open anaconda navigator, go to environments, click on the arrow next to the base (root) environment, click \"open terminal\" and run the following command: `conda install -y -c conda-forge package_name`. You can also install pre-downloaded packages.\n",
    "\n",
    "We unfortunately cannot give in-depth support for installing these packages on windows.\n",
    "\n",
    "If you cannot install face_recognition or dlib, just import the already processed features as mentioned below the feature extraction."
   ]
  },
  {
   "cell_type": "code",
   "execution_count": null,
   "metadata": {
    "ExecuteTime": {
     "end_time": "2020-04-28T06:57:50.426186Z",
     "start_time": "2020-04-28T06:57:48.136975Z"
    }
   },
   "outputs": [],
   "source": [
    "import cv2\n",
    "import face_recognition\n",
    "from imutils import paths"
   ]
  },
  {
   "cell_type": "markdown",
   "metadata": {},
   "source": [
    "### Feature extraction"
   ]
  },
  {
   "cell_type": "markdown",
   "metadata": {},
   "source": [
    "Instead of using the raw pixels of the images directly, we first cut out the faces from the images and extract a feature vector representation from each face. As this is not the goal of this exercise, the code for doing this step is given:"
   ]
  },
  {
   "cell_type": "code",
   "execution_count": null,
   "metadata": {
    "ExecuteTime": {
     "end_time": "2020-04-28T07:13:00.059139Z",
     "start_time": "2020-04-28T06:58:13.852448Z"
    },
    "scrolled": true
   },
   "outputs": [],
   "source": [
    "dir = '../datasets/images'\n",
    "data = []\n",
    "for i, path in enumerate(paths.list_images(dir)):\n",
    "    print(path)\n",
    "    # Load the images\n",
    "    rgb = cv2.cvtColor(cv2.imread(path), cv2.COLOR_BGR2RGB)\n",
    "    # Find the bounding boxes of the faces\n",
    "    boxes = face_recognition.face_locations(rgb, model='cnn')\n",
    "    # Encode the faces\n",
    "    encodings = face_recognition.face_encodings(rgb, boxes)\n",
    "    # Add to the dataset\n",
    "    data.extend([\n",
    "        {'path': path, 'rgb': rgb, 'box': box, 'encoding': encoding}\n",
    "        for (box, encoding) in zip(boxes, encodings)\n",
    "    ])\n",
    "    \n",
    "X = pd.DataFrame([d['encoding'] for d in data])\n",
    "data = pd.DataFrame(data)"
   ]
  },
  {
   "cell_type": "markdown",
   "metadata": {},
   "source": [
    "If the cell above runs too slow, you can also load the results: (this requires installing the `tables` package)"
   ]
  },
  {
   "cell_type": "code",
   "execution_count": null,
   "metadata": {
    "ExecuteTime": {
     "end_time": "2020-04-28T09:00:10.844516Z",
     "start_time": "2020-04-28T09:00:08.884793Z"
    }
   },
   "outputs": [],
   "source": [
    "data = pd.read_hdf('images.hdf', key='images')\n",
    "X = pd.DataFrame([data.loc[i, 'encoding'] for i in data.index])"
   ]
  },
  {
   "cell_type": "markdown",
   "metadata": {},
   "source": [
    "### Visualization"
   ]
  },
  {
   "cell_type": "markdown",
   "metadata": {},
   "source": [
    "Whereas we only had four attributes in the Iris dataset, we now have a much larger number of features which makes it hard to visualize the data points. Instead we can project the points to a two-dimensional plane using a dimensionality reduction method. A commonly used reduction method is the <a href=\"https://en.wikipedia.org/wiki/T-distributed_stochastic_neighbor_embedding\">*t-distributed stochastic neighbor embedding*</a> or t-SNE in short, which is also implemented in `scikit-learn`."
   ]
  },
  {
   "cell_type": "markdown",
   "metadata": {},
   "source": [
    "**Exercise 5:** Visualize a two-dimensional <a href=\"https://scikit-learn.org/stable/modules/generated/sklearn.manifold.TSNE.html\">t-SNE</a> representation of the encodings. "
   ]
  },
  {
   "cell_type": "code",
   "execution_count": null,
   "metadata": {
    "ExecuteTime": {
     "start_time": "2020-04-22T08:03:20.805Z"
    }
   },
   "outputs": [],
   "source": []
  },
  {
   "cell_type": "markdown",
   "metadata": {},
   "source": [
    "### Clustering"
   ]
  },
  {
   "cell_type": "markdown",
   "metadata": {},
   "source": [
    "**Exercise 6:** Use your k-means implementation to cluster the images (using the t-SNE representation as input data)"
   ]
  },
  {
   "cell_type": "code",
   "execution_count": null,
   "metadata": {
    "ExecuteTime": {
     "start_time": "2020-04-22T08:03:21.797Z"
    }
   },
   "outputs": [],
   "source": []
  },
  {
   "cell_type": "markdown",
   "metadata": {},
   "source": [
    "**Exercise 7:** Do the clusters actually make sense? Plot the images of their correspoding faces."
   ]
  },
  {
   "cell_type": "code",
   "execution_count": null,
   "metadata": {
    "ExecuteTime": {
     "start_time": "2020-04-22T08:03:22.968Z"
    },
    "scrolled": false
   },
   "outputs": [],
   "source": []
  }
 ],
 "metadata": {
  "kernelspec": {
   "display_name": "Python 3",
   "language": "python",
   "name": "python3"
  },
  "language_info": {
   "codemirror_mode": {
    "name": "ipython",
    "version": 3
   },
   "file_extension": ".py",
   "mimetype": "text/x-python",
   "name": "python",
   "nbconvert_exporter": "python",
   "pygments_lexer": "ipython3",
   "version": "3.8.8"
  },
  "toc": {
   "base_numbering": 1,
   "nav_menu": {},
   "number_sections": true,
   "sideBar": true,
   "skip_h1_title": true,
   "title_cell": "Table of Contents",
   "title_sidebar": "Contents",
   "toc_cell": false,
   "toc_position": {},
   "toc_section_display": true,
   "toc_window_display": false
  }
 },
 "nbformat": 4,
 "nbformat_minor": 2
}
