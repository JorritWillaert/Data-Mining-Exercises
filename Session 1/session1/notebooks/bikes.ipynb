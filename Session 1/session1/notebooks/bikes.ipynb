{
 "cells": [
  {
   "cell_type": "markdown",
   "metadata": {},
   "source": [
    "Data Mining [H02C6a] - Spring 2022\n",
    "\n",
    "# Session 1: Exploratory Data Analysis with `pandas`"
   ]
  },
  {
   "cell_type": "markdown",
   "metadata": {},
   "source": [
    "## Exercise 2: Bike Rental Usage Analysis\n",
    "\n",
    "In this exercise, we explore the bike rental data set using visualisation techniques similar to those of exercise 1.\n",
    "\n",
    "<img src = '../img/bikes.jpg' width = 25% align = right>\n",
    "\n",
    "## Background\n",
    "\n",
    "Bike sharing systems enable users to easily rent a bike from a particular position and return it back at another position. Currently, there are over 500 bike-sharing programs around the world which is composed of over 500 thousands bicycles. \n",
    "\n",
    "Today, there exists a great interest in these systems due to their important role in traffic, environmental and health issues. \n",
    "\n",
    "\n",
    "## The data\n",
    "\n",
    "The data set you are about to explore is related to the two-year historical log corresponding to the years 2011 and 2012 from the Capital Bikeshare system, Washington D.C., USA which is publicly available in http://capitalbikeshare.com/system-data. The data has been aggregated on an hourly basis. Besides, the corresponding weather and seasonal information has been added.\n",
    "\n",
    "Attributes are as follows:\n",
    "- **Datetime**: date and time, hourly\n",
    "- **Season**: 1 - winter, 2 - spring, 3 - summer, 4 - autumn\n",
    "- **Holiday**: whether the day is considered a holiday\n",
    "- **Workingday**: whether the day is neither a weekend nor holiday\n",
    "- **Weather**:\n",
    "    1. Clear, Few clouds, Partly cloudy, Partly cloudy\n",
    "    2. Mist + Cloudy, Mist + Broken clouds, Mist + Few clouds, Mist\n",
    "    3. Light Snow, Light Rain + Thunderstorm + Scattered clouds, Light Rain + Scattered clouds\n",
    "    4. Heavy Rain + Ice Pallets + Thunderstorm + Mist, Snow + Fog \n",
    "- **Temp**: temperature, Celsius\n",
    "- **Atemp**: \"feels like\" temperature, Celsius\n",
    "- **Humidity**: relative humidity\n",
    "- **Windspeed**: wind speed\n",
    "- **Casual**: number of non-registered user rentals initiated\n",
    "- **Registered**: number of registered user rentals initiated\n",
    "- **Count**: number of total rentals, *target variable*\n",
    "\n",
    "Let's get started!"
   ]
  },
  {
   "cell_type": "code",
   "execution_count": null,
   "metadata": {
    "collapsed": true
   },
   "outputs": [],
   "source": [
    "import pandas as pd, numpy as np\n",
    "import matplotlib as plt\n",
    "import seaborn as sns\n",
    "%matplotlib inline"
   ]
  },
  {
   "cell_type": "markdown",
   "metadata": {},
   "source": [
    "## Loading the data"
   ]
  },
  {
   "cell_type": "code",
   "execution_count": null,
   "metadata": {
    "collapsed": true
   },
   "outputs": [],
   "source": [
    "data = pd.read_csv('../datasets/bikes_train.csv', parse_dates=['datetime'])\n",
    "print(data.shape)\n",
    "data.head()"
   ]
  },
  {
   "cell_type": "code",
   "execution_count": null,
   "metadata": {
    "collapsed": true,
    "scrolled": true
   },
   "outputs": [],
   "source": [
    "print('The data types are: ')\n",
    "data.dtypes"
   ]
  },
  {
   "cell_type": "markdown",
   "metadata": {},
   "source": [
    "Note that `pandas` doesn't automatically recognize some features to be nominal, since they are encoded with numbers (e.g., `season`, `dayofweek`, etc.). You can fix this malually using `.astype` method if needed."
   ]
  },
  {
   "cell_type": "markdown",
   "metadata": {},
   "source": [
    "Briefly discuss the following questions:\n",
    "\n",
    "<b><font color = 'red'>Question 2.1</font> Why is this data interesting? What can it be used for?</b>"
   ]
  },
  {
   "cell_type": "markdown",
   "metadata": {},
   "source": [
    "[Your ideas here]"
   ]
  },
  {
   "cell_type": "markdown",
   "metadata": {},
   "source": [
    "<b><font color = 'red'>Question 2.2</font> What may affect the bike rental process? What patterns do you expect to discover in the data?</b>"
   ]
  },
  {
   "cell_type": "markdown",
   "metadata": {},
   "source": [
    "[Your ideas here]"
   ]
  },
  {
   "cell_type": "markdown",
   "metadata": {},
   "source": [
    "## Data aggregation\n",
    "\n",
    "The original dataset contains hourly rental counts, which can be too detailed. \n",
    "\n",
    "**<font color='red'>Question 2.3</font> Define a new DataFrame `daily_counts` that contains the total number of rentals (`casual`, `registered` and total `count`) for every day in the database, along with mean temperature, windspeed and humidity values for that day. Indicate the day of week and whether the day is a public holiday.**\n",
    "\n",
    "Hint: use the <a href='https://pandas.pydata.org/pandas-docs/stable/generated/pandas.DataFrame.groupby.html?highlight=groupby#pandas.DataFrame.groupby'>`DataFrame.groupby()`</a> and <a href='https://pandas.pydata.org/pandas-docs/stable/generated/pandas.DataFrame.aggregate.html'>`DataFrame.aggregate()`</a> methods."
   ]
  },
  {
   "cell_type": "code",
   "execution_count": null,
   "metadata": {
    "collapsed": true
   },
   "outputs": [],
   "source": [
    "# Your code here"
   ]
  },
  {
   "cell_type": "markdown",
   "metadata": {},
   "source": [
    "**Ectract day of week, month and year as well.**"
   ]
  },
  {
   "cell_type": "code",
   "execution_count": null,
   "metadata": {
    "collapsed": true
   },
   "outputs": [],
   "source": [
    "# Your code here"
   ]
  },
  {
   "cell_type": "markdown",
   "metadata": {},
   "source": [
    "## Data exploration\n",
    "\n",
    "Explore the dataset and answer the following questions about the bike rental usage applying visualisation techniques similar to those of exercise 1."
   ]
  },
  {
   "cell_type": "markdown",
   "metadata": {},
   "source": [
    "Let's start with a general overview.\n",
    "\n",
    "**<font color = 'red'>Question 2.4</font> Plot the evolution of daily system usage over two years.**\n",
    "\n",
    "Hint: use the <a href=https://pandas.pydata.org/pandas-docs/stable/generated/pandas.DataFrame.plot.html>`DataFrame.plot`</a> method"
   ]
  },
  {
   "cell_type": "code",
   "execution_count": null,
   "metadata": {
    "collapsed": true
   },
   "outputs": [],
   "source": [
    "# Your code here"
   ]
  },
  {
   "cell_type": "markdown",
   "metadata": {},
   "source": [
    "<b>Looking at the plot, answer the following questions:\n",
    "* what is the general trend?\n",
    "* who uses the system more in general: registered or casual users? Is it always so? \n",
    "</b>"
   ]
  },
  {
   "cell_type": "markdown",
   "metadata": {},
   "source": [
    "[Your answer here]"
   ]
  },
  {
   "cell_type": "markdown",
   "metadata": {
    "collapsed": true
   },
   "source": [
    "**<font color = 'red'>Question 2.5</font> Plot the average number of daily bike rentals per month in 2011 and 2012.**"
   ]
  },
  {
   "cell_type": "code",
   "execution_count": null,
   "metadata": {
    "collapsed": true
   },
   "outputs": [],
   "source": [
    "# Your code here"
   ]
  },
  {
   "cell_type": "markdown",
   "metadata": {},
   "source": [
    "**Which month was the busiest in 2011? And in 2012?**"
   ]
  },
  {
   "cell_type": "markdown",
   "metadata": {},
   "source": [
    "[Your answer here]"
   ]
  },
  {
   "cell_type": "markdown",
   "metadata": {},
   "source": [
    "**<font color='red'>Question 2.6</font> Do casual and registered users have different bike rental patterns? If so, explain the difference and posible reasons for it. Make plots to justify your answer.**"
   ]
  },
  {
   "cell_type": "markdown",
   "metadata": {},
   "source": [
    "[Your answer here]"
   ]
  },
  {
   "cell_type": "code",
   "execution_count": null,
   "metadata": {
    "collapsed": true
   },
   "outputs": [],
   "source": [
    "# Your code here"
   ]
  },
  {
   "cell_type": "code",
   "execution_count": null,
   "metadata": {
    "collapsed": true
   },
   "outputs": [],
   "source": [
    "# Your code here"
   ]
  },
  {
   "cell_type": "markdown",
   "metadata": {},
   "source": [
    "**<font color='red'>Question 2.7</font>** What are, on average, the busiest hours (in terms of the total number of rentals)? Are they the same on working and non-working days? Can the same pattern be observed both in 2011 and 2012?"
   ]
  },
  {
   "cell_type": "code",
   "execution_count": null,
   "metadata": {
    "collapsed": true
   },
   "outputs": [],
   "source": [
    "# Your code here"
   ]
  },
  {
   "cell_type": "markdown",
   "metadata": {},
   "source": [
    "<b><font color='red'>Question 2.8</font> \n",
    "\n",
    "Define a new variable `daytime` as follows:\n",
    "* 5am - 12pm -> `morning`\n",
    "* 12pm - 5pm -> `afternoon`\n",
    "* 5pm - 9pm -> `evening`\n",
    "* 9pm - 5am -> `night`\n",
    "</b>"
   ]
  },
  {
   "cell_type": "code",
   "execution_count": null,
   "metadata": {
    "collapsed": true
   },
   "outputs": [],
   "source": [
    "# Your code here"
   ]
  },
  {
   "cell_type": "markdown",
   "metadata": {},
   "source": [
    "<b>Are the following statements true or false? Make corresponding plots to justify your answer.</b>\n",
    "<i>\n",
    "* Casual users rent the highest number of bikes in the afternoon, both on working and non-working days.\n",
    "* The smallest number of bikes is rented during night hours.\n",
    "* Registered users rent more bikes on holidays than on working days.\n",
    "</i>"
   ]
  },
  {
   "cell_type": "code",
   "execution_count": null,
   "metadata": {
    "collapsed": true
   },
   "outputs": [],
   "source": [
    "# Your code here"
   ]
  },
  {
   "cell_type": "markdown",
   "metadata": {},
   "source": [
    "<b><font color='red'>Question 2.9</font> Is the following statement true or false? Confirm with a plot.</b>\n",
    "\n",
    "<i>The highest average number of daily bike rentals by casual users was recorded on summer days both in 2011 and 2012.</i>\n"
   ]
  },
  {
   "cell_type": "code",
   "execution_count": null,
   "metadata": {
    "collapsed": true
   },
   "outputs": [],
   "source": [
    "# Your code here"
   ]
  },
  {
   "cell_type": "markdown",
   "metadata": {},
   "source": [
    "<b><font color='red'>Question 2.10</font> \n",
    "<br>\n",
    "Do weather conditions affect bike rental patterns of registered users? Casual users? \n",
    "<br>\n",
    "Make plots to justify your answer and try to explain the reason for what you see.\n",
    "</b>"
   ]
  },
  {
   "cell_type": "markdown",
   "metadata": {},
   "source": [
    "[Your answer here]"
   ]
  },
  {
   "cell_type": "code",
   "execution_count": null,
   "metadata": {
    "collapsed": true
   },
   "outputs": [],
   "source": [
    "# Your code here"
   ]
  },
  {
   "cell_type": "markdown",
   "metadata": {},
   "source": [
    "<b><font color='red'>Question 2.11</font> \n",
    "<br>\n",
    "Speaking about the weather, let's see what's the weather like in Washington. Plot the distribution of the temperature over the seasons. </b>"
   ]
  },
  {
   "cell_type": "code",
   "execution_count": null,
   "metadata": {
    "collapsed": true
   },
   "outputs": [],
   "source": [
    "# Your code here"
   ]
  },
  {
   "cell_type": "markdown",
   "metadata": {},
   "source": [
    "**Are the most windy days also the coldest ones? Make a plot to justify your answer.**"
   ]
  },
  {
   "cell_type": "code",
   "execution_count": null,
   "metadata": {
    "collapsed": true
   },
   "outputs": [],
   "source": [
    "# Your code here"
   ]
  },
  {
   "cell_type": "markdown",
   "metadata": {},
   "source": [
    "<b>Do such factors as temperature, humidity and windspeed seriously affect the bike rental process? \n",
    "<br>\n",
    "Make plots to justify your answer.\n",
    "</b>"
   ]
  },
  {
   "cell_type": "markdown",
   "metadata": {},
   "source": [
    "[Your answer here]"
   ]
  },
  {
   "cell_type": "code",
   "execution_count": null,
   "metadata": {
    "collapsed": true
   },
   "outputs": [],
   "source": [
    "# Your code here"
   ]
  }
 ],
 "metadata": {
  "kernelspec": {
   "display_name": "Python 3 (ipykernel)",
   "language": "python",
   "name": "python3"
  },
  "language_info": {
   "codemirror_mode": {
    "name": "ipython",
    "version": 3
   },
   "file_extension": ".py",
   "mimetype": "text/x-python",
   "name": "python",
   "nbconvert_exporter": "python",
   "pygments_lexer": "ipython3",
   "version": "3.8.0"
  },
  "toc": {
   "base_numbering": 1,
   "nav_menu": {},
   "number_sections": true,
   "sideBar": true,
   "skip_h1_title": false,
   "title_cell": "Table of Contents",
   "title_sidebar": "Contents",
   "toc_cell": false,
   "toc_position": {},
   "toc_section_display": true,
   "toc_window_display": true
  }
 },
 "nbformat": 4,
 "nbformat_minor": 1
}
