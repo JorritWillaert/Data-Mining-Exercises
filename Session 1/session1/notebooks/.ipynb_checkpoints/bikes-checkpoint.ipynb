{
 "cells": [
  {
   "cell_type": "markdown",
   "metadata": {},
   "source": [
    "Data Mining [H02C6a] - Spring 2022\n",
    "\n",
    "# Session 1: Exploratory Data Analysis with `pandas`"
   ]
  },
  {
   "cell_type": "markdown",
   "metadata": {},
   "source": [
    "## Exercise 2: Bike Rental Usage Analysis\n",
    "\n",
    "In this exercise, we explore the bike rental data set using visualisation techniques similar to those of exercise 1.\n",
    "\n",
    "<img src = '../img/bikes.jpg' width = 25% align = right>\n",
    "\n",
    "## Background\n",
    "\n",
    "Bike sharing systems enable users to easily rent a bike from a particular position and return it back at another position. Currently, there are over 500 bike-sharing programs around the world which is composed of over 500 thousands bicycles. \n",
    "\n",
    "Today, there exists a great interest in these systems due to their important role in traffic, environmental and health issues. \n",
    "\n",
    "\n",
    "## The data\n",
    "\n",
    "The data set you are about to explore is related to the two-year historical log corresponding to the years 2011 and 2012 from the Capital Bikeshare system, Washington D.C., USA which is publicly available in http://capitalbikeshare.com/system-data. The data has been aggregated on an hourly basis. Besides, the corresponding weather and seasonal information has been added.\n",
    "\n",
    "Attributes are as follows:\n",
    "- **Datetime**: date and time, hourly\n",
    "- **Season**: 1 - winter, 2 - spring, 3 - summer, 4 - autumn\n",
    "- **Holiday**: whether the day is considered a holiday\n",
    "- **Workingday**: whether the day is neither a weekend nor holiday\n",
    "- **Weather**:\n",
    "    1. Clear, Few clouds, Partly cloudy, Partly cloudy\n",
    "    2. Mist + Cloudy, Mist + Broken clouds, Mist + Few clouds, Mist\n",
    "    3. Light Snow, Light Rain + Thunderstorm + Scattered clouds, Light Rain + Scattered clouds\n",
    "    4. Heavy Rain + Ice Pallets + Thunderstorm + Mist, Snow + Fog \n",
    "- **Temp**: temperature, Celsius\n",
    "- **Atemp**: \"feels like\" temperature, Celsius\n",
    "- **Humidity**: relative humidity\n",
    "- **Windspeed**: wind speed\n",
    "- **Casual**: number of non-registered user rentals initiated\n",
    "- **Registered**: number of registered user rentals initiated\n",
    "- **Count**: number of total rentals, *target variable*\n",
    "\n",
    "Let's get started!"
   ]
  },
  {
   "cell_type": "code",
   "execution_count": 1,
   "metadata": {},
   "outputs": [],
   "source": [
    "import pandas as pd, numpy as np\n",
    "import matplotlib as plt\n",
    "import seaborn as sns\n",
    "%matplotlib inline"
   ]
  },
  {
   "cell_type": "markdown",
   "metadata": {},
   "source": [
    "## Loading the data"
   ]
  },
  {
   "cell_type": "code",
   "execution_count": 2,
   "metadata": {},
   "outputs": [
    {
     "name": "stdout",
     "output_type": "stream",
     "text": [
      "(10886, 12)\n"
     ]
    },
    {
     "data": {
      "text/html": [
       "<div>\n",
       "<style scoped>\n",
       "    .dataframe tbody tr th:only-of-type {\n",
       "        vertical-align: middle;\n",
       "    }\n",
       "\n",
       "    .dataframe tbody tr th {\n",
       "        vertical-align: top;\n",
       "    }\n",
       "\n",
       "    .dataframe thead th {\n",
       "        text-align: right;\n",
       "    }\n",
       "</style>\n",
       "<table border=\"1\" class=\"dataframe\">\n",
       "  <thead>\n",
       "    <tr style=\"text-align: right;\">\n",
       "      <th></th>\n",
       "      <th>datetime</th>\n",
       "      <th>season</th>\n",
       "      <th>holiday</th>\n",
       "      <th>workingday</th>\n",
       "      <th>weather</th>\n",
       "      <th>temp</th>\n",
       "      <th>atemp</th>\n",
       "      <th>humidity</th>\n",
       "      <th>windspeed</th>\n",
       "      <th>casual</th>\n",
       "      <th>registered</th>\n",
       "      <th>count</th>\n",
       "    </tr>\n",
       "  </thead>\n",
       "  <tbody>\n",
       "    <tr>\n",
       "      <th>0</th>\n",
       "      <td>2011-01-01 00:00:00</td>\n",
       "      <td>1</td>\n",
       "      <td>0</td>\n",
       "      <td>0</td>\n",
       "      <td>1</td>\n",
       "      <td>0.24</td>\n",
       "      <td>0.2879</td>\n",
       "      <td>0.81</td>\n",
       "      <td>0.0</td>\n",
       "      <td>3</td>\n",
       "      <td>13</td>\n",
       "      <td>16</td>\n",
       "    </tr>\n",
       "    <tr>\n",
       "      <th>1</th>\n",
       "      <td>2011-01-01 01:00:00</td>\n",
       "      <td>1</td>\n",
       "      <td>0</td>\n",
       "      <td>0</td>\n",
       "      <td>1</td>\n",
       "      <td>0.22</td>\n",
       "      <td>0.2727</td>\n",
       "      <td>0.80</td>\n",
       "      <td>0.0</td>\n",
       "      <td>8</td>\n",
       "      <td>32</td>\n",
       "      <td>40</td>\n",
       "    </tr>\n",
       "    <tr>\n",
       "      <th>2</th>\n",
       "      <td>2011-01-01 02:00:00</td>\n",
       "      <td>1</td>\n",
       "      <td>0</td>\n",
       "      <td>0</td>\n",
       "      <td>1</td>\n",
       "      <td>0.22</td>\n",
       "      <td>0.2727</td>\n",
       "      <td>0.80</td>\n",
       "      <td>0.0</td>\n",
       "      <td>5</td>\n",
       "      <td>27</td>\n",
       "      <td>32</td>\n",
       "    </tr>\n",
       "    <tr>\n",
       "      <th>3</th>\n",
       "      <td>2011-01-01 03:00:00</td>\n",
       "      <td>1</td>\n",
       "      <td>0</td>\n",
       "      <td>0</td>\n",
       "      <td>1</td>\n",
       "      <td>0.24</td>\n",
       "      <td>0.2879</td>\n",
       "      <td>0.75</td>\n",
       "      <td>0.0</td>\n",
       "      <td>3</td>\n",
       "      <td>10</td>\n",
       "      <td>13</td>\n",
       "    </tr>\n",
       "    <tr>\n",
       "      <th>4</th>\n",
       "      <td>2011-01-01 04:00:00</td>\n",
       "      <td>1</td>\n",
       "      <td>0</td>\n",
       "      <td>0</td>\n",
       "      <td>1</td>\n",
       "      <td>0.24</td>\n",
       "      <td>0.2879</td>\n",
       "      <td>0.75</td>\n",
       "      <td>0.0</td>\n",
       "      <td>0</td>\n",
       "      <td>1</td>\n",
       "      <td>1</td>\n",
       "    </tr>\n",
       "  </tbody>\n",
       "</table>\n",
       "</div>"
      ],
      "text/plain": [
       "             datetime  season  holiday  workingday  weather  temp   atemp  \\\n",
       "0 2011-01-01 00:00:00       1        0           0        1  0.24  0.2879   \n",
       "1 2011-01-01 01:00:00       1        0           0        1  0.22  0.2727   \n",
       "2 2011-01-01 02:00:00       1        0           0        1  0.22  0.2727   \n",
       "3 2011-01-01 03:00:00       1        0           0        1  0.24  0.2879   \n",
       "4 2011-01-01 04:00:00       1        0           0        1  0.24  0.2879   \n",
       "\n",
       "   humidity  windspeed  casual  registered  count  \n",
       "0      0.81        0.0       3          13     16  \n",
       "1      0.80        0.0       8          32     40  \n",
       "2      0.80        0.0       5          27     32  \n",
       "3      0.75        0.0       3          10     13  \n",
       "4      0.75        0.0       0           1      1  "
      ]
     },
     "execution_count": 2,
     "metadata": {},
     "output_type": "execute_result"
    }
   ],
   "source": [
    "data = pd.read_csv('../datasets/bikes_train.csv', parse_dates=['datetime'])\n",
    "print(data.shape)\n",
    "data.head()"
   ]
  },
  {
   "cell_type": "code",
   "execution_count": 3,
   "metadata": {
    "scrolled": true
   },
   "outputs": [
    {
     "name": "stdout",
     "output_type": "stream",
     "text": [
      "The data types are: \n"
     ]
    },
    {
     "data": {
      "text/plain": [
       "datetime      datetime64[ns]\n",
       "season                 int64\n",
       "holiday                int64\n",
       "workingday             int64\n",
       "weather                int64\n",
       "temp                 float64\n",
       "atemp                float64\n",
       "humidity             float64\n",
       "windspeed            float64\n",
       "casual                 int64\n",
       "registered             int64\n",
       "count                  int64\n",
       "dtype: object"
      ]
     },
     "execution_count": 3,
     "metadata": {},
     "output_type": "execute_result"
    }
   ],
   "source": [
    "print('The data types are: ')\n",
    "data.dtypes"
   ]
  },
  {
   "cell_type": "markdown",
   "metadata": {},
   "source": [
    "Note that `pandas` doesn't automatically recognize some features to be nominal, since they are encoded with numbers (e.g., `season`, `dayofweek`, etc.). You can fix this malually using `.astype` method if needed."
   ]
  },
  {
   "cell_type": "markdown",
   "metadata": {},
   "source": [
    "Briefly discuss the following questions:\n",
    "\n",
    "<b><font color = 'red'>Question 2.1</font> Why is this data interesting? What can it be used for?</b>"
   ]
  },
  {
   "cell_type": "markdown",
   "metadata": {},
   "source": [
    "Using nominal data provides no specific ordering, whereas ordinal data does.\n",
    "The whole dataset is useful so predictions can be made"
   ]
  },
  {
   "cell_type": "markdown",
   "metadata": {},
   "source": [
    "<b><font color = 'red'>Question 2.2</font> What may affect the bike rental process? What patterns do you expect to discover in the data?</b>"
   ]
  },
  {
   "cell_type": "markdown",
   "metadata": {},
   "source": [
    "Holiday --> More rentals\n",
    "\n",
    "Summer instead of winter --> More rentals\n",
    "\n",
    "Non-workday instead of workday --> More rentals\n",
    "\n",
    "Temp high --> More rentals\n",
    "\n",
    "Not a lot of wind --> More rentals\n",
    "\n",
    "Good weather --> More rentals\n",
    "\n",
    "Day instead of night --> More rentals"
   ]
  },
  {
   "cell_type": "markdown",
   "metadata": {},
   "source": [
    "## Data aggregation\n",
    "\n",
    "The original dataset contains hourly rental counts, which can be too detailed. \n",
    "\n",
    "**<font color='red'>Question 2.3</font> Define a new DataFrame `daily_counts` that contains the total number of rentals (`casual`, `registered` and total `count`) for every day in the database, along with mean temperature, windspeed and humidity values for that day. Indicate the day of week and whether the day is a public holiday.**\n",
    "\n",
    "Hint: use the <a href='https://pandas.pydata.org/pandas-docs/stable/generated/pandas.DataFrame.groupby.html?highlight=groupby#pandas.DataFrame.groupby'>`DataFrame.groupby()`</a> and <a href='https://pandas.pydata.org/pandas-docs/stable/generated/pandas.DataFrame.aggregate.html'>`DataFrame.aggregate()`</a> methods."
   ]
  },
  {
   "cell_type": "code",
   "execution_count": 5,
   "metadata": {},
   "outputs": [
    {
     "name": "stdout",
     "output_type": "stream",
     "text": [
      "0         1\n",
      "1         1\n",
      "2         1\n",
      "3         1\n",
      "4         1\n",
      "         ..\n",
      "10881    19\n",
      "10882    19\n",
      "10883    19\n",
      "10884    19\n",
      "10885    19\n",
      "Name: datetime, Length: 10886, dtype: int64\n"
     ]
    }
   ],
   "source": [
    "print(data['datetime'].dt.day)"
   ]
  },
  {
   "cell_type": "code",
   "execution_count": 17,
   "metadata": {},
   "outputs": [
    {
     "name": "stdout",
     "output_type": "stream",
     "text": [
      "         casual registered   count      temp windspeed  humidity\n",
      "            sum        sum     sum      mean      mean      mean\n",
      "datetime                                                        \n",
      "1         18178      85514  103692  0.503930  0.165039  0.650661\n",
      "2         19724      85657  105381  0.495812  0.188666  0.630105\n",
      "3         22112      89449  111561  0.485689  0.184267  0.587557\n",
      "4         24047      88288  112335  0.496481  0.197908  0.618345\n",
      "5         20012      89103  109115  0.493217  0.201278  0.617843\n",
      "6         19512      89088  108600  0.478392  0.185242  0.640559\n",
      "7         19226      86260  105486  0.495296  0.175908  0.635540\n",
      "8         19189      83581  102770  0.492648  0.198901  0.627561\n",
      "9         20143      87898  108041  0.483374  0.184689  0.634696\n",
      "10        21187      90458  111645  0.489336  0.184017  0.578531\n",
      "11        20683      90463  111146  0.479331  0.191196  0.602042\n",
      "12        19167      90090  109257  0.482757  0.195389  0.615009\n",
      "13        19986      91462  111448  0.487631  0.212312  0.586394\n",
      "14        20480      91926  112406  0.495331  0.189588  0.607300\n",
      "15        23283      92394  115677  0.501429  0.201575  0.606132\n",
      "16        20708      89129  109837  0.494913  0.185923  0.635801\n",
      "17        23560      94695  118255  0.503722  0.201846  0.620052\n",
      "18        21051      87386  108437  0.511829  0.199999  0.640764\n",
      "19        19887      90500  110387  0.504251  0.186078  0.623589\n"
     ]
    }
   ],
   "source": [
    "# Your code here\n",
    "daily_counts = data.groupby([data['datetime'].dt.day]).aggregate({'casual': ['sum'], 'registered': ['sum'], 'count': ['sum'], 'temp': ['mean'], 'windspeed': ['mean'], 'humidity': ['mean']})\n",
    "print(daily_counts.head(19))\n",
    "\n",
    "# TODO: day of week and is the day a public holiday?"
   ]
  },
  {
   "cell_type": "markdown",
   "metadata": {},
   "source": [
    "**Ectract day of week, month and year as well.**"
   ]
  },
  {
   "cell_type": "code",
   "execution_count": 24,
   "metadata": {},
   "outputs": [
    {
     "name": "stdout",
     "output_type": "stream",
     "text": [
      "    datetime  datetime  datetime\n",
      "0          1         1      2011\n",
      "1          1         1      2011\n",
      "2          1         1      2011\n",
      "3          1         1      2011\n",
      "4          1         1      2011\n",
      "5          1         1      2011\n",
      "6          1         1      2011\n",
      "7          1         1      2011\n",
      "8          1         1      2011\n",
      "9          1         1      2011\n",
      "10         1         1      2011\n",
      "11         1         1      2011\n",
      "12         1         1      2011\n",
      "13         1         1      2011\n",
      "14         1         1      2011\n",
      "15         1         1      2011\n",
      "16         1         1      2011\n",
      "17         1         1      2011\n",
      "18         1         1      2011\n",
      "19         1         1      2011\n",
      "20         1         1      2011\n",
      "21         1         1      2011\n",
      "22         1         1      2011\n",
      "23         1         1      2011\n",
      "24         2         1      2011\n",
      "25         2         1      2011\n",
      "26         2         1      2011\n",
      "27         2         1      2011\n",
      "28         2         1      2011\n",
      "29         2         1      2011\n"
     ]
    }
   ],
   "source": [
    "# Your code here\n",
    "specs_time = pd.concat([data['datetime'].dt.day, data['datetime'].dt.month, data['datetime'].dt.year], axis=1)\n",
    "print(specs_time.head(30))"
   ]
  },
  {
   "cell_type": "markdown",
   "metadata": {},
   "source": [
    "## Data exploration\n",
    "\n",
    "Explore the dataset and answer the following questions about the bike rental usage applying visualisation techniques similar to those of exercise 1."
   ]
  },
  {
   "cell_type": "markdown",
   "metadata": {},
   "source": [
    "Let's start with a general overview.\n",
    "\n",
    "**<font color = 'red'>Question 2.4</font> Plot the evolution of daily system usage over two years.**\n",
    "\n",
    "Hint: use the <a href=https://pandas.pydata.org/pandas-docs/stable/generated/pandas.DataFrame.plot.html>`DataFrame.plot`</a> method"
   ]
  },
  {
   "cell_type": "code",
   "execution_count": 26,
   "metadata": {},
   "outputs": [
    {
     "data": {
      "text/plain": [
       "<AxesSubplot:xlabel='datetime'>"
      ]
     },
     "execution_count": 26,
     "metadata": {},
     "output_type": "execute_result"
    },
    {
     "data": {
      "image/png": "[encoded data removed]",
      "text/plain": [
       "<Figure size 432x288 with 1 Axes>"
      ]
     },
     "metadata": {
      "needs_background": "light"
     },
     "output_type": "display_data"
    },
    {
     "data": {
      "image/png": "[encoded data removed]",
      "text/plain": [
       "<Figure size 432x288 with 1 Axes>"
      ]
     },
     "metadata": {
      "needs_background": "light"
     },
     "output_type": "display_data"
    },
    {
     "data": {
      "image/png": "[encoded data removed]",
      "text/plain": [
       "<Figure size 432x288 with 1 Axes>"
      ]
     },
     "metadata": {
      "needs_background": "light"
     },
     "output_type": "display_data"
    }
   ],
   "source": [
    "# Your code here\n",
    "data.plot(x='datetime', y='count')\n",
    "data.plot(x='datetime', y='registered')\n",
    "data.plot(x='datetime', y='casual')"
   ]
  },
  {
   "cell_type": "markdown",
   "metadata": {},
   "source": [
    "<b>Looking at the plot, answer the following questions:\n",
    "* what is the general trend?\n",
    "* who uses the system more in general: registered or casual users? Is it always so? \n",
    "</b>"
   ]
  },
  {
   "cell_type": "markdown",
   "metadata": {},
   "source": [
    "* Upward trend. Always more rentals in the summer.\n",
    "\n",
    "* "
   ]
  },
  {
   "cell_type": "markdown",
   "metadata": {
    "collapsed": true
   },
   "source": [
    "**<font color = 'red'>Question 2.5</font> Plot the average number of daily bike rentals per month in 2011 and 2012.**"
   ]
  },
  {
   "cell_type": "code",
   "execution_count": null,
   "metadata": {
    "collapsed": true
   },
   "outputs": [],
   "source": [
    "# Your code here"
   ]
  },
  {
   "cell_type": "markdown",
   "metadata": {},
   "source": [
    "**Which month was the busiest in 2011? And in 2012?**"
   ]
  },
  {
   "cell_type": "markdown",
   "metadata": {},
   "source": [
    "[Your answer here]"
   ]
  },
  {
   "cell_type": "markdown",
   "metadata": {},
   "source": [
    "**<font color='red'>Question 2.6</font> Do casual and registered users have different bike rental patterns? If so, explain the difference and posible reasons for it. Make plots to justify your answer.**"
   ]
  },
  {
   "cell_type": "markdown",
   "metadata": {},
   "source": [
    "[Your answer here]"
   ]
  },
  {
   "cell_type": "code",
   "execution_count": null,
   "metadata": {
    "collapsed": true
   },
   "outputs": [],
   "source": [
    "# Your code here"
   ]
  },
  {
   "cell_type": "code",
   "execution_count": null,
   "metadata": {
    "collapsed": true
   },
   "outputs": [],
   "source": [
    "# Your code here"
   ]
  },
  {
   "cell_type": "markdown",
   "metadata": {},
   "source": [
    "**<font color='red'>Question 2.7</font>** What are, on average, the busiest hours (in terms of the total number of rentals)? Are they the same on working and non-working days? Can the same pattern be observed both in 2011 and 2012?"
   ]
  },
  {
   "cell_type": "code",
   "execution_count": null,
   "metadata": {
    "collapsed": true
   },
   "outputs": [],
   "source": [
    "# Your code here"
   ]
  },
  {
   "cell_type": "markdown",
   "metadata": {},
   "source": [
    "<b><font color='red'>Question 2.8</font> \n",
    "\n",
    "Define a new variable `daytime` as follows:\n",
    "* 5am - 12pm -> `morning`\n",
    "* 12pm - 5pm -> `afternoon`\n",
    "* 5pm - 9pm -> `evening`\n",
    "* 9pm - 5am -> `night`\n",
    "</b>"
   ]
  },
  {
   "cell_type": "code",
   "execution_count": null,
   "metadata": {
    "collapsed": true
   },
   "outputs": [],
   "source": [
    "# Your code here"
   ]
  },
  {
   "cell_type": "markdown",
   "metadata": {},
   "source": [
    "<b>Are the following statements true or false? Make corresponding plots to justify your answer.</b>\n",
    "<i>\n",
    "* Casual users rent the highest number of bikes in the afternoon, both on working and non-working days.\n",
    "* The smallest number of bikes is rented during night hours.\n",
    "* Registered users rent more bikes on holidays than on working days.\n",
    "</i>"
   ]
  },
  {
   "cell_type": "code",
   "execution_count": null,
   "metadata": {
    "collapsed": true
   },
   "outputs": [],
   "source": [
    "# Your code here"
   ]
  },
  {
   "cell_type": "markdown",
   "metadata": {},
   "source": [
    "<b><font color='red'>Question 2.9</font> Is the following statement true or false? Confirm with a plot.</b>\n",
    "\n",
    "<i>The highest average number of daily bike rentals by casual users was recorded on summer days both in 2011 and 2012.</i>\n"
   ]
  },
  {
   "cell_type": "code",
   "execution_count": null,
   "metadata": {
    "collapsed": true
   },
   "outputs": [],
   "source": [
    "# Your code here"
   ]
  },
  {
   "cell_type": "markdown",
   "metadata": {},
   "source": [
    "<b><font color='red'>Question 2.10</font> \n",
    "<br>\n",
    "Do weather conditions affect bike rental patterns of registered users? Casual users? \n",
    "<br>\n",
    "Make plots to justify your answer and try to explain the reason for what you see.\n",
    "</b>"
   ]
  },
  {
   "cell_type": "markdown",
   "metadata": {},
   "source": [
    "[Your answer here]"
   ]
  },
  {
   "cell_type": "code",
   "execution_count": null,
   "metadata": {
    "collapsed": true
   },
   "outputs": [],
   "source": [
    "# Your code here"
   ]
  },
  {
   "cell_type": "markdown",
   "metadata": {},
   "source": [
    "<b><font color='red'>Question 2.11</font> \n",
    "<br>\n",
    "Speaking about the weather, let's see what's the weather like in Washington. Plot the distribution of the temperature over the seasons. </b>"
   ]
  },
  {
   "cell_type": "code",
   "execution_count": null,
   "metadata": {
    "collapsed": true
   },
   "outputs": [],
   "source": [
    "# Your code here"
   ]
  },
  {
   "cell_type": "markdown",
   "metadata": {},
   "source": [
    "**Are the most windy days also the coldest ones? Make a plot to justify your answer.**"
   ]
  },
  {
   "cell_type": "code",
   "execution_count": null,
   "metadata": {
    "collapsed": true
   },
   "outputs": [],
   "source": [
    "# Your code here"
   ]
  },
  {
   "cell_type": "markdown",
   "metadata": {},
   "source": [
    "<b>Do such factors as temperature, humidity and windspeed seriously affect the bike rental process? \n",
    "<br>\n",
    "Make plots to justify your answer.\n",
    "</b>"
   ]
  },
  {
   "cell_type": "markdown",
   "metadata": {},
   "source": [
    "[Your answer here]"
   ]
  },
  {
   "cell_type": "code",
   "execution_count": null,
   "metadata": {
    "collapsed": true
   },
   "outputs": [],
   "source": [
    "# Your code here"
   ]
  }
 ],
 "metadata": {
  "kernelspec": {
   "display_name": "Python 3",
   "language": "python",
   "name": "python3"
  },
  "language_info": {
   "codemirror_mode": {
    "name": "ipython",
    "version": 3
   },
   "file_extension": ".py",
   "mimetype": "text/x-python",
   "name": "python",
   "nbconvert_exporter": "python",
   "pygments_lexer": "ipython3",
   "version": "3.8.8"
  },
  "toc": {
   "base_numbering": 1,
   "nav_menu": {},
   "number_sections": true,
   "sideBar": true,
   "skip_h1_title": false,
   "title_cell": "Table of Contents",
   "title_sidebar": "Contents",
   "toc_cell": false,
   "toc_position": {},
   "toc_section_display": true,
   "toc_window_display": true
  }
 },
 "nbformat": 4,
 "nbformat_minor": 1
}
